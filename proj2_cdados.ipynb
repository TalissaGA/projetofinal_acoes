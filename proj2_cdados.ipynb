{
 "cells": [
  {
   "cell_type": "markdown",
   "metadata": {},
   "source": [
    "# Projeto 2 - Ciência dos Dados"
   ]
  },
  {
   "cell_type": "markdown",
   "metadata": {},
   "source": [
    "Nome: _Marco Tulio Masselli Rainho Teixeira_\n",
    "\n",
    "Nome: _Talissa Gonçalves Albertini_"
   ]
  },
  {
   "cell_type": "markdown",
   "metadata": {},
   "source": [
    "# Classificador automático de qualidade de investimentos em ações\n"
   ]
  },
  {
   "cell_type": "markdown",
   "metadata": {},
   "source": [
    "<div id=\"indice\"></div>\n",
    "\n",
    "### Índice\n",
    "\n",
    "- [Instrodução](#intro)\n",
    "- [Objetivo](purpose)\n",
    "- [Técnica utilizada](#technique)\n",
    "    - [Por que analizar o comportamento de indicadores finaceiros e não apenas o dos preços de ações ?](#ind)\n",
    "    - [Por que utilizar Regressão Logística Multinomial ?](#lr)\n",
    "    - [Por que utilizar Random Forest ?](#rf)\n",
    "    - [Por que utilizar Gradient Boosting](#gb)\n",
    "- [Descrição da Base de Dados](#dataset)\n",
    "- [1. Preparação do ambiente do Jupyter](#imports)\n",
    "- [2. Carregando a base de dados com os indicadores](#excel)\n",
    "- [3. Tratamento do banco de dados](#database_cleaning)\n",
    "- [4. Análise exploratória dos dados](#EDA)\n",
    "- [5. Preparação do DataSet para os classificadores](#data_prep)\n",
    "- [6. Classificação por Regressão Logistica Multinominal](#class_lr)\n",
    "- [7. Classificação por Random Forest](#class_rf)\n",
    "- [8. Classificação por Gradient Boosting](#class_gb)\n",
    "- [9. Classificação pela combinação das 3 técnicas anteriores](#class_comp)\n",
    "- [10. Análise de resultados](#analysis)\n",
    "    - [10.1. Comparação de desempenho](#analysis_1)\n",
    "    - [10.2. Proceso de aperfeicoamento ](#analysis_2)\n",
    "    - [10.3 Possiveis melhorias](#analysis_3)\n",
    "- [11. Bibliografia](#bibl)\n"
   ]
  },
  {
   "cell_type": "markdown",
   "metadata": {},
   "source": [
    "<div id='intro'></div>\n",
    "    \n",
    "### Instrodução\n",
    "\n",
    "Decisões acerca da transação de ações são fundamentalmente associadas a estimativa do valor intrínseco que a empresa possuirá em um determinado período.\n",
    "Este projeto se baseia na hipótese de que é possíveis extrair informações relevantes para a realização dessa estimativas de indicadores financeiros das empresas.\n",
    "\n",
    "O valor por trás de um classificador como este é a padronização do processo de seleção de bons investimentos \n"
   ]
  },
  {
   "cell_type": "markdown",
   "metadata": {},
   "source": [
    "<div id='objetivo'></div>\n",
    "\n",
    "### Objetivo \n",
    "\n",
    "Este projeto tem como objetivo realizar uma análise sistemática de indicadores financeiros de uma determinada ação e responder a seguinte questão: No período de um mês, uma determinada ação valorizará ou não ? \n",
    "\n",
    "Inicialmente, a aplicação desse modelo foi pensada para a gestão de um portfólio de ações cujas operações de compra e venda fossem realizadas a cada mês, então o teste seria realizado para todas as ações do portfólio e para eventuais ações que despertassem interesse de aquisição. No caso das ações do portfólio, o resultado positivo para valorização resultaria na decisão de mantê-la, caso contrário seria vendida.\n"
   ]
  },
  {
   "cell_type": "markdown",
   "metadata": {},
   "source": [
    "<div id='technique'></div>\n",
    "\n",
    "### Técnica utilizada\n",
    "\n",
    "A técnica utilizada nesse projeto foi a classificação de indicadores financeiros por quatro métodos, a Regressão Logística Multinominal, Random Forest, Gradiente Boosting e uma combinação dos três anteriores em paralelo.\n"
   ]
  },
  {
   "cell_type": "markdown",
   "metadata": {},
   "source": [
    "<div id='ind'></div>\n",
    "\n",
    "#### Por que analisar o comportamento de indicadores financeiros e não apenas o dos preços de ações ?\n",
    "\n",
    "O comportamento do preço de ações, assim como o de qualquer outro ativo financeiro (imóveis, moeda, obrigações etc ), é caracterizado por relativamente alta volatilidade pois é influenciado por muitos fatores de naturezas diversas, como estabilidade financeira mundial, nível de apreensão no mercado financeiro, fatores comportamentais de indivíduos específicos (como líderes de estado), desastres naturais, entre outros. Por isso, a análise puramente dos preços das ações pode gerar resultados promissores por um tempo, mas a tendência é de que sua acurácia seja naturalmente reduzida conforme o Base de dados de treinamento é preenchida com dados de períodos influenciados pelos fatores de naturezas diversas citados anteriormente.\n",
    "\n",
    "Já a análise dos indicadores é mais fundamentada, completa e fiel na compreensão do comportamento da empresa ao longo do tempo. Por exemplo, alguns indicadores mostram a frequência com que acionista são pagos, a lucratividade por cada ação dessa empresa (diferente da lucratividade apenas) ou até a qualidade dos investimentos que essa empresa faz nela mesma. \n",
    "\n",
    "Esses indicadores podem ser traduzidos, por exemplo: no quão confiável a empresa é para pagar seus acionistas, quão eficiente ela é em gerar lucro e o quão capaz ela é para realizar bons investimentos com o dinheiro dos acionistas. Assim, eles representam informações muito mais versáteis para se interpretar e combinar com outras estatísticas, comparado com apenas o preço da ação."
   ]
  },
  {
   "cell_type": "markdown",
   "metadata": {},
   "source": [
    "<div id='lr'></div>\n",
    "\n",
    "#### Regressão Logística Multinominal \n",
    "\n",
    "Regressão Logística funciona com base no método de Máxima Probabilidade (MLE), em que os parâmetros da função são maximizados para que esta represente o máximo possível dos dados de treinamento. No contexto da análise dos indicadores financeiros, a ideia é relaciona-los com a variável ‘target’, um binário que representa se a ação valorizou ou desvalorizou no determinado mês.\n",
    "\n"
   ]
  },
  {
   "cell_type": "markdown",
   "metadata": {},
   "source": [
    "<div id='rf'></div>\n",
    "\n",
    "#### Random Forest \n",
    "\n",
    "Random Forest é um método de classificação que tem como base um outro modelo de classificação mais fundamental, a arvore de decisões. A diferencial do Random Forest é que ele cria inúmeras arvores de decisão reorganizando os criterioso de classificação, ele permuta os dados do DataSet de treinamento e cria novos com esse valores, e para cada um cria uma arvore de decisões com critérios particulares de cada novo DataSet."
   ]
  },
  {
   "cell_type": "markdown",
   "metadata": {},
   "source": [
    "<div id='gb'></div>\n",
    "\n",
    "#### Gradient Boosting \n",
    "\n",
    "Assim como Random Forest, esse método tem como base um modelo simples e fraco, que quando passado por um processo de inúmeras permutações, repetições e adaptações da própria estrutura passa a ser muito eficiente, analisando os próprios erros de classificação nos dados de treinamento. Esse modelo base é ainda mais simples do que arvores de decisao e é conhecido como 'Stump', que é basicamente uma arvore de decisões com apenas um ramo e 2 folhas. "
   ]
  },
  {
   "cell_type": "markdown",
   "metadata": {},
   "source": []
  },
  {
   "cell_type": "markdown",
   "metadata": {},
   "source": []
  }
 ],
 "metadata": {
  "kernelspec": {
   "display_name": "Python 3",
   "language": "python",
   "name": "python3"
  },
  "language_info": {
   "codemirror_mode": {
    "name": "ipython",
    "version": 3
   },
   "file_extension": ".py",
   "mimetype": "text/x-python",
   "name": "python",
   "nbconvert_exporter": "python",
   "pygments_lexer": "ipython3",
   "version": "3.7.3"
  }
 },
 "nbformat": 4,
 "nbformat_minor": 2
}
