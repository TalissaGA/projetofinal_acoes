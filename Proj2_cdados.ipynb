{
 "cells": [
  {
   "cell_type": "markdown",
   "metadata": {},
   "source": [
    "# Projeto 2 - Ciência dos Dados"
   ]
  },
  {
   "cell_type": "markdown",
   "metadata": {},
   "source": [
    "Nome: _Marco Tulio Masselli Rainho Teixeira_\n",
    "\n",
    "Nome: _Talissa Gonçalves Albertini_"
   ]
  },
  {
   "cell_type": "markdown",
   "metadata": {},
   "source": [
    "## Classificador automático de qualidade de investimentos em ações\n"
   ]
  },
  {
   "cell_type": "markdown",
   "metadata": {},
   "source": [
    "### Descrição da Base de Dados "
   ]
  },
  {
   "cell_type": "markdown",
   "metadata": {},
   "source": [
    "A base de dados ultilizada neste projeto é composta por indicadores financeiros coletados ao longo de vários anos da empresa Microsoft\n",
    "\n",
    "* DATE: Dada de coleta das informações\n",
    "* NET_INCOME: A diferença entre o lucro bruto e as despesas\n",
    "* CF_FREE_CASH_FLOW: \n",
    "* CF_CASH_FROM_OPER:\n",
    "* CF_CASH_FROM_INV_ACT:\n",
    "* CF_CASH_FROM_FNC_ACT:\n",
    "* CUR_RATIO:\n",
    "* TOT_DEBT_TO_COM_EQY:\n",
    "* RETURN_COM_EQY:\n",
    "\n",
    "Indicadores do DataSet Diário\n",
    "* DATE: Dada de coleta das informações\n",
    "* CUR_MKT_CAP : Valor de mercado, valor de uma ação vezes o número total ed ações\n",
    "* TURNOVER : Indica o quão rápido a empresa consegue arrecadar dinheito com o seu inventário\n",
    "* PX LAST : Preço da ação \n",
    "* EQY_SH_OUT :\n",
    "* PE RATIO :\n",
    "* PX_TO_BOOK_RATIO :\n",
    "* EQY_DPS :\n"
   ]
  },
  {
   "cell_type": "markdown",
   "metadata": {},
   "source": [
    "### Técnica utilizada"
   ]
  },
  {
   "cell_type": "markdown",
   "metadata": {},
   "source": []
  },
  {
   "cell_type": "markdown",
   "metadata": {},
   "source": [
    "### Objetivo do Projeto"
   ]
  },
  {
   "cell_type": "markdown",
   "metadata": {},
   "source": [
    "Este projeto tem o objetivo realizar a análise de indicadores financeiros de uma determinada ação e responder a seguinte questão: Esta ação deve ser tem uma? Os critérios relevantes para responder essa questão é basicamente  a probabilidade dessa ação valorizar durante o próximo trimestre, dado que parte significante dos indicadores são coletados de 3 em 3 meses."
   ]
  },
  {
   "cell_type": "markdown",
   "metadata": {},
   "source": [
    "### 1. Preparação do ambiente do Jupyter\n"
   ]
  },
  {
   "cell_type": "code",
   "execution_count": null,
   "metadata": {},
   "outputs": [],
   "source": [
    "%matplotlib inline\n",
    "import datetime as dt\n",
    "import pandas as pd\n",
    "import matplotlib.pyplot as plt\n",
    "import numpy as np\n",
    "import seaborn as sb\n"
   ]
  },
  {
   "cell_type": "code",
   "execution_count": null,
   "metadata": {},
   "outputs": [],
   "source": []
  },
  {
   "cell_type": "code",
   "execution_count": null,
   "metadata": {},
   "outputs": [],
   "source": []
  },
  {
   "cell_type": "code",
   "execution_count": null,
   "metadata": {},
   "outputs": [],
   "source": []
  },
  {
   "cell_type": "code",
   "execution_count": null,
   "metadata": {},
   "outputs": [],
   "source": []
  }
 ],
 "metadata": {
  "kernelspec": {
   "display_name": "Python 3",
   "language": "python",
   "name": "python3"
  },
  "language_info": {
   "codemirror_mode": {
    "name": "ipython",
    "version": 3
   },
   "file_extension": ".py",
   "mimetype": "text/x-python",
   "name": "python",
   "nbconvert_exporter": "python",
   "pygments_lexer": "ipython3",
   "version": "3.7.3"
  }
 },
 "nbformat": 4,
 "nbformat_minor": 2
}
