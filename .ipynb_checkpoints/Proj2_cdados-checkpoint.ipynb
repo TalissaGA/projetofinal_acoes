{
 "cells": [
  {
   "cell_type": "markdown",
   "metadata": {},
   "source": [
    "# Projeto 2 - Ciência dos Dados"
   ]
  },
  {
   "cell_type": "markdown",
   "metadata": {},
   "source": [
    "Nome: _Marco Tulio Masselli Rainho Teixeira_\n",
    "\n",
    "Nome: _Talissa Gonçalves Albertini_"
   ]
  },
  {
   "cell_type": "markdown",
   "metadata": {},
   "source": [
    "## Classificador automático de qualidade de investimentos em ações\n"
   ]
  },
  {
   "cell_type": "markdown",
   "metadata": {},
   "source": [
    "### Descrição da Base de Dados "
   ]
  },
  {
   "cell_type": "markdown",
   "metadata": {},
   "source": [
    "A base de dados ultilizada neste projeto é composta por indicadores financeiros coletados ao longo de vários anos (1986-2020) da empresa Microsoft\n",
    "\n",
    "Indicadores do DataSet Trimestral\n",
    "* DATE: Dada de coleta das informações\n",
    "* NET_INCOME: A diferença entre o lucro bruto e as despesas (em $10^6$ dólares)\n",
    "* CF_FREE_CASH_FLOW: \n",
    "* CF_CASH_FROM_OPER:\n",
    "* CF_CASH_FROM_INV_ACT:\n",
    "* CF_CASH_FROM_FNC_ACT:\n",
    "* CUR_RATIO:\n",
    "* TOT_DEBT_TO_COM_EQY:\n",
    "* RETURN_COM_EQY:\n",
    "\n",
    "Indicadores do DataSet Diário\n",
    "* DATE: Dada de coleta das informações\n",
    "* CUR_MKT_CAP : Valor de mercado, valor de uma ação vezes o número total ed ações\n",
    "* TURNOVER : Indica o quão rápido a empresa consegue arrecadar dinheito com o seu inventário\n",
    "* PX LAST : Preço da ação \n",
    "* EQY_SH_OUT :\n",
    "* PE RATIO :\n",
    "* PX_TO_BOOK_RATIO :\n",
    "* EQY_DPS :"
   ]
  },
  {
   "cell_type": "markdown",
   "metadata": {},
   "source": [
    "### Técnica utilizada"
   ]
  },
  {
   "cell_type": "markdown",
   "metadata": {},
   "source": []
  },
  {
   "cell_type": "markdown",
   "metadata": {},
   "source": [
    "### Objetivo do Projeto"
   ]
  },
  {
   "cell_type": "markdown",
   "metadata": {},
   "source": [
    "Este projeto tem o objetivo realizar a análise de indicadores financeiros de uma determinada ação do portfólio e responder a seguinte questão: Esta ação deve ser matida no portfólio ou não ? O critério relevante para responder essa questão é basicamente a probabilidade dessa ação valorizar durante o próximo trimestre, dado que parte significante dos indicadores são trimestrais."
   ]
  },
  {
   "cell_type": "markdown",
   "metadata": {},
   "source": [
    "### 1. Preparação do ambiente do Jupyter"
   ]
  },
  {
   "cell_type": "code",
   "execution_count": null,
   "metadata": {},
   "outputs": [],
   "source": [
    "%matplotlib inline\n",
    "import datetime as dt\n",
    "import pandas as pd\n",
    "import matplotlib.pyplot as plt\n",
    "import numpy as np\n",
    "import seaborn as sb\n"
   ]
  },
  {
   "cell_type": "markdown",
   "metadata": {},
   "source": [
    "### 2. Carregando a base de dados com os indicadores\n"
   ]
  },
  {
   "cell_type": "code",
   "execution_count": null,
   "metadata": {},
   "outputs": [],
   "source": [
    "xls = pd.ExcelFile('Dados_BBG.xlsx')\n",
    "df1 = pd.read_excel(xls, 'MSFT-Quarterly')\n",
    "df2 = pd.read_excel(xls, 'MSFT-Daily')"
   ]
  },
  {
   "cell_type": "code",
   "execution_count": null,
   "metadata": {},
   "outputs": [],
   "source": [
    "dft = df1.iloc[6:133, 1:] # df trimestral\n",
    "\n",
    "dfd = df2.iloc[6:, 1:] # df diário"
   ]
  },
  {
   "cell_type": "markdown",
   "metadata": {},
   "source": [
    "### 3. Tratamento do banco de dados de treinamento\n"
   ]
  },
  {
   "cell_type": "code",
   "execution_count": null,
   "metadata": {},
   "outputs": [],
   "source": [
    "# rectify the date columns\n",
    "dft.iloc[:, 0] = dft.iloc[:, 0].dt.date \n",
    "\n",
    "dfd.iloc[:, 0] = dfd.iloc[:, 0].dt.date"
   ]
  },
  {
   "cell_type": "code",
   "execution_count": null,
   "metadata": {},
   "outputs": [],
   "source": [
    "# Set the column's names \n",
    "\n",
    "indicators_dft_names = df1.iloc[4,[1,3,5,7,9,11,13,15,17,19]].array  \n",
    "dft.rename( columns={'Unnamed: 1':indicators_dft_names[0]}, inplace=True )\n",
    "dft.rename( columns={'Unnamed: 3':indicators_dft_names[1]}, inplace=True )\n",
    "dft.rename( columns={'Unnamed: 5':indicators_dft_names[2]}, inplace=True )\n",
    "dft.rename( columns={'Unnamed: 7':indicators_dft_names[3]}, inplace=True )\n",
    "dft.rename( columns={'Unnamed: 9':indicators_dft_names[4]}, inplace=True )\n",
    "dft.rename( columns={'Unnamed: 11':indicators_dft_names[5]}, inplace=True )\n",
    "dft.rename( columns={'Unnamed: 13':indicators_dft_names[6]}, inplace=True )\n",
    "dft.rename( columns={'Unnamed: 15':indicators_dft_names[7]}, inplace=True )\n",
    "dft.rename( columns={'Unnamed: 17':indicators_dft_names[8]}, inplace=True )\n",
    "dft.rename( columns={'Unnamed: 19':indicators_dft_names[9]}, inplace=True )\n",
    "\n",
    "indicators_dfd_names = df2.iloc[4,[1,3,5,7,9,11,13]].array  \n",
    "dfd.rename( columns={'Unnamed: 1':indicators_dfd_names[0]}, inplace=True )\n",
    "dfd.rename( columns={'Unnamed: 3':indicators_dfd_names[1]}, inplace=True )\n",
    "dfd.rename( columns={'Unnamed: 5':indicators_dfd_names[2]}, inplace=True )\n",
    "dfd.rename( columns={'Unnamed: 7':indicators_dfd_names[3]}, inplace=True )\n",
    "dfd.rename( columns={'Unnamed: 9':indicators_dfd_names[4]}, inplace=True )\n",
    "dfd.rename( columns={'Unnamed: 11':indicators_dfd_names[5]}, inplace=True )\n",
    "dfd.rename( columns={'Unnamed: 13':indicators_dfd_names[6]}, inplace=True )"
   ]
  },
  {
   "cell_type": "code",
   "execution_count": null,
   "metadata": {},
   "outputs": [],
   "source": [
    "# Get rid of unnamed columns thar remained\n",
    "dft = dft.loc[:, ~dft.columns.str.contains('^Unnamed')]\n",
    "\n",
    "dfd = dfd.loc[:, ~dfd.columns.str.contains('^Unnamed')]"
   ]
  },
  {
   "cell_type": "code",
   "execution_count": null,
   "metadata": {},
   "outputs": [],
   "source": [
    "dfd.head()"
   ]
  },
  {
   "cell_type": "code",
   "execution_count": null,
   "metadata": {},
   "outputs": [],
   "source": [
    "dft.head()"
   ]
  },
  {
   "cell_type": "code",
   "execution_count": null,
   "metadata": {},
   "outputs": [],
   "source": [
    "print(indicators_dft_names)\n",
    "print(indicators_dfd_names)"
   ]
  }
 ],
 "metadata": {
  "kernelspec": {
   "display_name": "Python 3",
   "language": "python",
   "name": "python3"
  },
  "language_info": {
   "codemirror_mode": {
    "name": "ipython",
    "version": 3
   },
   "file_extension": ".py",
   "mimetype": "text/x-python",
   "name": "python",
   "nbconvert_exporter": "python",
   "pygments_lexer": "ipython3",
   "version": "3.7.3"
  }
 },
 "nbformat": 4,
 "nbformat_minor": 2
}
