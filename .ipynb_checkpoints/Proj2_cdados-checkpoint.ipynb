{
 "cells": [
  {
   "cell_type": "markdown",
   "metadata": {},
   "source": [
    "# Projeto 2 - Ciência dos Dados"
   ]
  },
  {
   "cell_type": "markdown",
   "metadata": {},
   "source": [
    "Nome: _Marco Tulio Masselli Rainho Teixeira_\n",
    "\n",
    "Nome: _Talissa Gonçalves Albertini_"
   ]
  },
  {
   "cell_type": "markdown",
   "metadata": {},
   "source": [
    "# Classificador automático de qualidade de investimentos em ações\n"
   ]
  },
  {
   "cell_type": "markdown",
   "metadata": {},
   "source": [
    "<div id=\"indice\"></div>\n",
    "\n",
    "### Índice\n",
    "\n",
    "- [Instrodução](#intro)\n",
    "- [Objetivo](purpose)\n",
    "- [Técnica utilizada](#technique)\n",
    "    - [Por que analizar o comportamento de indicadores finaceiros e não apenas o dos preços de ações ?](#ind)\n",
    "    - [Por que utilizar Regressão Logística Multinomial ?](#lr)\n",
    "    - [Por que utilizar Random Forest ?](#rf)\n",
    "    - [Por que utilizar Gradient Boosting](#gb)\n",
    "- [Descrição da Base de Dados](#dataset)\n",
    "- [1. Preparação do ambiente do Jupyter](#imports)\n",
    "- [2. Carregando a base de dados com os indicadores](#excel)\n",
    "- [3. Tratamento do banco de dados](#database_cleaning)\n",
    "- [4. Análise exploratória dos dados](#EDA)\n",
    "- [5. Preparação do DataSet para os classificadores](#data_prep)\n",
    "- [6. Classificação por Regressão Logistica Multinominal](#class_lr)\n",
    "- [7. Classificação por Random Forest](#class_rf)\n",
    "- [8. Classificação por Gradient Boosting](#class_gb)\n",
    "- [9. Classificação pela combinação das 3 técnicas anteriores](#class_comp)\n",
    "- [10. Análise de resultados](#analysis)\n",
    "    - [10.1. Comparação de desempenho](#analysis_1)\n",
    "    - [10.2. Proceso de aperfeicoamento ](#analysis_2)\n",
    "    - [10.3 Possiveis melhorias](#analysis_3)\n",
    "- [11. Bibliografia](#bibl)\n"
   ]
  },
  {
   "cell_type": "markdown",
   "metadata": {},
   "source": [
    "<div id='intro'></div>\n",
    "    \n",
    "### Instrodução\n",
    "\n",
    "Decisões acerca da transação de ações são fundamentalmente associadas a estimativa do valor intrínseco que a empresa possuirá em um determinado período.\n",
    "Este projeto se baseia na hipótese de que é possíveis extrair informações relevantes para a realização dessa estimativas de indicadores financeiros das empresas.\n",
    "\n",
    "O valor por trás de um classificador como este é a padronização do processo de seleção de bons investimentos \n"
   ]
  },
  {
   "cell_type": "markdown",
   "metadata": {},
   "source": [
    "<div id='objetivo'></div>\n",
    "\n",
    "### Objetivo \n",
    "\n",
    "Este projeto tem como objetivo realizar uma análise sistemática de indicadores financeiros de uma determinada ação e responder a seguinte questão: No período de um mês, uma determinada ação valorizará ou não ? \n",
    "\n",
    "Inicialmente, a aplicação desse modelo foi pensada para a gestão de um portfólio de ações cujas operações de compra e venda fossem realizadas a cada mês, então o teste seria realizado para todas as ações do portfólio e para eventuais ações que despertassem interesse de aquisição. No caso das ações do portfólio, o resultado positivo para valorização resultaria na decisão de mantê-la, caso contrário seria vendida.\n"
   ]
  },
  {
   "cell_type": "markdown",
   "metadata": {},
   "source": [
    "<div id='technique'></div>\n",
    "\n",
    "### Técnica utilizada\n",
    "\n",
    "A técnica utilizada nesse projeto foi a classificação de indicadores financeiros por quatro métodos, a Regressão Logística Multinominal, Random Forest, Gradiente Boosting e uma combinação dos três anteriores em paralelo.\n"
   ]
  },
  {
   "cell_type": "markdown",
   "metadata": {},
   "source": [
    "<div id='ind'></div>\n",
    "\n",
    "#### Por que analisar o comportamento de indicadores financeiros e não apenas o dos preços de ações ?\n",
    "\n",
    "O comportamento do preço de ações, assim como o de qualquer outro ativo financeiro (imóveis, moeda, obrigações etc ), é caracterizado por relativamente alta volatilidade pois é influenciado por muitos fatores de naturezas diversas, como estabilidade financeira mundial, nível de apreensão no mercado financeiro, fatores comportamentais de indivíduos específicos (como líderes de estado), desastres naturais, entre outros. Por isso, a análise puramente dos preços das ações pode gerar resultados promissores por um tempo, mas a tendência é de que sua acurácia seja naturalmente reduzida conforme o Base de dados de treinamento é preenchida com dados de períodos influenciados pelos fatores de naturezas diversas citados anteriormente.\n",
    "\n",
    "Já a análise dos indicadores é mais fundamentada, completa e fiel na compreensão do comportamento da empresa ao longo do tempo. Por exemplo, alguns indicadores mostram a frequência com que acionista são pagos, a lucratividade por cada ação dessa empresa (diferente da lucratividade apenas) ou até a qualidade dos investimentos que essa empresa faz nela mesma. \n",
    "\n",
    "Esses indicadores podem ser traduzidos, por exemplo: no quão confiável a empresa é para pagar seus acionistas, quão eficiente ela é em gerar lucro e o quão capaz ela é para realizar bons investimentos com o dinheiro dos acionistas. Assim, eles representam informações muito mais versáteis para se interpretar e combinar com outras estatísticas, comparado com apenas o preço da ação."
   ]
  },
  {
   "cell_type": "markdown",
   "metadata": {},
   "source": [
    "<div id='lr'></div>\n",
    "\n",
    "#### Regressão Logística Multinominal \n",
    "\n",
    "Regressão Logística funciona com base no método de Máxima Probabilidade (MLE), em que os parâmetros da função são maximizados para que esta represente o máximo possível dos dados de treinamento. No contexto da análise dos indicadores financeiros, a ideia é relaciona-los com a variável ‘target’, um binário que representa se a ação valorizou ou desvalorizou no determinado mês.\n",
    "\n"
   ]
  },
  {
   "cell_type": "markdown",
   "metadata": {},
   "source": [
    "<div id='rf'></div>\n",
    "\n",
    "#### Random Forest \n",
    "\n",
    "Random Forest é um método de classificação que tem como base um outro modelo de classificação mais fundamental, a arvore de decisões. A diferencial do Random Forest é que ele cria inúmeras arvores de decisão reorganizando os criterioso de classificação, ele permuta os dados do DataSet de treinamento e cria novos com esse valores, e para cada um cria uma arvore de decisões com critérios particulares de cada novo DataSet."
   ]
  },
  {
   "cell_type": "markdown",
   "metadata": {},
   "source": [
    "<div id='gb'></div>\n",
    "\n",
    "#### Gradient Boosting \n",
    "\n",
    "Assim como Random Forest, esse método tem como base um modelo simples e fraco, que quando passado por um processo de inúmeras permutações, repetições e adaptações da própria estrutura passa a ser muito eficiente, analisando os próprios erros de classificação nos dados de treinamento. Esse modelo base é ainda mais simples do que arvores de decisao e é conhecido como 'Stump', que é basicamente uma arvore de decisões com apenas um ramo e 2 folhas. "
   ]
  },
  {
   "cell_type": "markdown",
   "metadata": {},
   "source": [
    "<div id='daataset'></div>\n",
    "\n",
    "### Descrição da Base de Dados \n",
    "\n",
    "A base de dados utilizada neste projeto é composta por indicadores financeiros coletados ao longo de 34 anos (1986-2020) da empresa Microsoft. Seu arquivo foi coletado do banco de dados financeiros da Bloomberg Professional Services\n",
    "\n",
    "Indicadores coletado com frequência trimestral\n",
    "* NET_INCOME:           A diferença entre o lucro bruto e as despesas da empresa. (em $10^6$ dólares)\n",
    "* CF_FREE_CASH_FLOW:    Dinheiro da empresa que está disponível para ser distribuído aos acionistas.\n",
    "* CF_CASH_FROM_OPER:    Fluxo de dinheiro gerado pela empresa por suas atividades regulares.\n",
    "* CF_CASH_FROM_INV_ACT: Fluxo de dinheiro investido pela empresa.\n",
    "* CF_CASH_FROM_FNC_ACT: Fluxo de débitos, por exemplo: lucro gerado por um empréstimo - valor do empréstimo. \n",
    "* CUR_RATIO:            Liquidez dos ativos da empresa, a facilidade com que a empresa pode transformar seus ativos em dinheiro.\n",
    "* TOT_DEBT_TO_COM_EQY:  Razão entre o débito e o patrimônio líquido da empresa.\n",
    "* RETURN_COM_EQY:       Razão entre os lucros da empresa e o dinheiro dos acionistas.\n",
    "\n",
    "Indicadores coletado com frequência diária\n",
    "* CUR_MKT_CAP :         Valor de mercado, valor de uma ação vezes o número total de ações.\n",
    "* TURNOVER :            Indica o quão rápido a empresa consegue arrecadar dinheiro com o seu inventário.\n",
    "* PX_LAST :             Preço da ação .\n",
    "* EQY_SH_OUT :          Numero de ações em posse de acionistas. \n",
    "* PE_RATIO :            Razão entre o valor total das ações e o lucro da empresa.\n",
    "* PX_TO_BOOK_RATIO :    Razão entre o preço de uma ação e o valor de venda da empresa por ação. \n",
    "* EQY_DPS :             Razão entre o dinheiro pago aos acionistas e o número de ações ."
   ]
  },
  {
   "cell_type": "markdown",
   "metadata": {},
   "source": [
    "<div id='imports'></div>\n",
    "\n",
    "### 1. Preparando o ambiente do Jupyter"
   ]
  },
  {
   "cell_type": "code",
   "execution_count": 3,
   "metadata": {},
   "outputs": [],
   "source": [
    "%matplotlib inline\n",
    "import datetime as dt\n",
    "import pandas as pd\n",
    "import matplotlib.pyplot as plt\n",
    "import numpy as np\n",
    "import seaborn as sb\n",
    "\n",
    "from sklearn.model_selection import train_test_split\n",
    "from sklearn import metrics\n",
    "from sklearn.linear_model import LogisticRegression\n",
    "from sklearn import linear_model\n",
    "import statsmodels.api as sm\n",
    "\n",
    "from sklearn.ensemble import RandomForestClassifier\n",
    "\n",
    "from sklearn.metrics import classification_report, confusion_matrix\n",
    "from sklearn.ensemble import GradientBoostingClassifier"
   ]
  },
  {
   "cell_type": "markdown",
   "metadata": {},
   "source": [
    "___\n",
    "### 2. Carregando a base de dados com os indicadores\n",
    "<div id='excel'></div>"
   ]
  },
  {
   "cell_type": "markdown",
   "metadata": {},
   "source": [
    "Nessa célula o arquivo Excel é carregado e uma de suas planilhas passa por uma filtragem."
   ]
  },
  {
   "cell_type": "code",
   "execution_count": 4,
   "metadata": {},
   "outputs": [
    {
     "ename": "FileNotFoundError",
     "evalue": "[Errno 2] No such file or directory: 'Dados BBG.xlsx'",
     "output_type": "error",
     "traceback": [
      "\u001b[1;31m---------------------------------------------------------------------------\u001b[0m",
      "\u001b[1;31mFileNotFoundError\u001b[0m                         Traceback (most recent call last)",
      "\u001b[1;32m<ipython-input-4-64d13881bb1c>\u001b[0m in \u001b[0;36m<module>\u001b[1;34m\u001b[0m\n\u001b[1;32m----> 1\u001b[1;33m \u001b[0mxls\u001b[0m \u001b[1;33m=\u001b[0m \u001b[0mpd\u001b[0m\u001b[1;33m.\u001b[0m\u001b[0mExcelFile\u001b[0m\u001b[1;33m(\u001b[0m\u001b[1;34m'Dados BBG.xlsx'\u001b[0m\u001b[1;33m)\u001b[0m\u001b[1;33m\u001b[0m\u001b[1;33m\u001b[0m\u001b[0m\n\u001b[0m\u001b[0;32m      2\u001b[0m \u001b[0mdf1_raw\u001b[0m \u001b[1;33m=\u001b[0m \u001b[0mpd\u001b[0m\u001b[1;33m.\u001b[0m\u001b[0mread_excel\u001b[0m\u001b[1;33m(\u001b[0m\u001b[0mxls\u001b[0m\u001b[1;33m,\u001b[0m \u001b[1;34m'MSFT-format'\u001b[0m\u001b[1;33m)\u001b[0m\u001b[1;33m\u001b[0m\u001b[1;33m\u001b[0m\u001b[0m\n\u001b[0;32m      3\u001b[0m \u001b[1;33m\u001b[0m\u001b[0m\n\u001b[0;32m      4\u001b[0m \u001b[0mdf1\u001b[0m \u001b[1;33m=\u001b[0m \u001b[0mdf1_raw\u001b[0m\u001b[1;33m.\u001b[0m\u001b[0miloc\u001b[0m\u001b[1;33m[\u001b[0m\u001b[1;36m4\u001b[0m\u001b[1;33m:\u001b[0m\u001b[1;33m,\u001b[0m \u001b[1;33m:\u001b[0m\u001b[1;33m]\u001b[0m\u001b[1;33m\u001b[0m\u001b[1;33m\u001b[0m\u001b[0m\n\u001b[0;32m      5\u001b[0m \u001b[1;33m\u001b[0m\u001b[0m\n",
      "\u001b[1;32m~\\Anaconda3\\lib\\site-packages\\pandas\\io\\excel.py\u001b[0m in \u001b[0;36m__init__\u001b[1;34m(self, io, engine)\u001b[0m\n\u001b[0;32m    651\u001b[0m         \u001b[0mself\u001b[0m\u001b[1;33m.\u001b[0m\u001b[0m_io\u001b[0m \u001b[1;33m=\u001b[0m \u001b[0m_stringify_path\u001b[0m\u001b[1;33m(\u001b[0m\u001b[0mio\u001b[0m\u001b[1;33m)\u001b[0m\u001b[1;33m\u001b[0m\u001b[1;33m\u001b[0m\u001b[0m\n\u001b[0;32m    652\u001b[0m \u001b[1;33m\u001b[0m\u001b[0m\n\u001b[1;32m--> 653\u001b[1;33m         \u001b[0mself\u001b[0m\u001b[1;33m.\u001b[0m\u001b[0m_reader\u001b[0m \u001b[1;33m=\u001b[0m \u001b[0mself\u001b[0m\u001b[1;33m.\u001b[0m\u001b[0m_engines\u001b[0m\u001b[1;33m[\u001b[0m\u001b[0mengine\u001b[0m\u001b[1;33m]\u001b[0m\u001b[1;33m(\u001b[0m\u001b[0mself\u001b[0m\u001b[1;33m.\u001b[0m\u001b[0m_io\u001b[0m\u001b[1;33m)\u001b[0m\u001b[1;33m\u001b[0m\u001b[1;33m\u001b[0m\u001b[0m\n\u001b[0m\u001b[0;32m    654\u001b[0m \u001b[1;33m\u001b[0m\u001b[0m\n\u001b[0;32m    655\u001b[0m     \u001b[1;32mdef\u001b[0m \u001b[0m__fspath__\u001b[0m\u001b[1;33m(\u001b[0m\u001b[0mself\u001b[0m\u001b[1;33m)\u001b[0m\u001b[1;33m:\u001b[0m\u001b[1;33m\u001b[0m\u001b[1;33m\u001b[0m\u001b[0m\n",
      "\u001b[1;32m~\\Anaconda3\\lib\\site-packages\\pandas\\io\\excel.py\u001b[0m in \u001b[0;36m__init__\u001b[1;34m(self, filepath_or_buffer)\u001b[0m\n\u001b[0;32m    422\u001b[0m             \u001b[0mself\u001b[0m\u001b[1;33m.\u001b[0m\u001b[0mbook\u001b[0m \u001b[1;33m=\u001b[0m \u001b[0mxlrd\u001b[0m\u001b[1;33m.\u001b[0m\u001b[0mopen_workbook\u001b[0m\u001b[1;33m(\u001b[0m\u001b[0mfile_contents\u001b[0m\u001b[1;33m=\u001b[0m\u001b[0mdata\u001b[0m\u001b[1;33m)\u001b[0m\u001b[1;33m\u001b[0m\u001b[1;33m\u001b[0m\u001b[0m\n\u001b[0;32m    423\u001b[0m         \u001b[1;32melif\u001b[0m \u001b[0misinstance\u001b[0m\u001b[1;33m(\u001b[0m\u001b[0mfilepath_or_buffer\u001b[0m\u001b[1;33m,\u001b[0m \u001b[0mcompat\u001b[0m\u001b[1;33m.\u001b[0m\u001b[0mstring_types\u001b[0m\u001b[1;33m)\u001b[0m\u001b[1;33m:\u001b[0m\u001b[1;33m\u001b[0m\u001b[1;33m\u001b[0m\u001b[0m\n\u001b[1;32m--> 424\u001b[1;33m             \u001b[0mself\u001b[0m\u001b[1;33m.\u001b[0m\u001b[0mbook\u001b[0m \u001b[1;33m=\u001b[0m \u001b[0mxlrd\u001b[0m\u001b[1;33m.\u001b[0m\u001b[0mopen_workbook\u001b[0m\u001b[1;33m(\u001b[0m\u001b[0mfilepath_or_buffer\u001b[0m\u001b[1;33m)\u001b[0m\u001b[1;33m\u001b[0m\u001b[1;33m\u001b[0m\u001b[0m\n\u001b[0m\u001b[0;32m    425\u001b[0m         \u001b[1;32melse\u001b[0m\u001b[1;33m:\u001b[0m\u001b[1;33m\u001b[0m\u001b[1;33m\u001b[0m\u001b[0m\n\u001b[0;32m    426\u001b[0m             raise ValueError('Must explicitly set engine if not passing in'\n",
      "\u001b[1;32m~\\Anaconda3\\lib\\site-packages\\xlrd\\__init__.py\u001b[0m in \u001b[0;36mopen_workbook\u001b[1;34m(filename, logfile, verbosity, use_mmap, file_contents, encoding_override, formatting_info, on_demand, ragged_rows)\u001b[0m\n\u001b[0;32m    109\u001b[0m     \u001b[1;32melse\u001b[0m\u001b[1;33m:\u001b[0m\u001b[1;33m\u001b[0m\u001b[1;33m\u001b[0m\u001b[0m\n\u001b[0;32m    110\u001b[0m         \u001b[0mfilename\u001b[0m \u001b[1;33m=\u001b[0m \u001b[0mos\u001b[0m\u001b[1;33m.\u001b[0m\u001b[0mpath\u001b[0m\u001b[1;33m.\u001b[0m\u001b[0mexpanduser\u001b[0m\u001b[1;33m(\u001b[0m\u001b[0mfilename\u001b[0m\u001b[1;33m)\u001b[0m\u001b[1;33m\u001b[0m\u001b[1;33m\u001b[0m\u001b[0m\n\u001b[1;32m--> 111\u001b[1;33m         \u001b[1;32mwith\u001b[0m \u001b[0mopen\u001b[0m\u001b[1;33m(\u001b[0m\u001b[0mfilename\u001b[0m\u001b[1;33m,\u001b[0m \u001b[1;34m\"rb\"\u001b[0m\u001b[1;33m)\u001b[0m \u001b[1;32mas\u001b[0m \u001b[0mf\u001b[0m\u001b[1;33m:\u001b[0m\u001b[1;33m\u001b[0m\u001b[1;33m\u001b[0m\u001b[0m\n\u001b[0m\u001b[0;32m    112\u001b[0m             \u001b[0mpeek\u001b[0m \u001b[1;33m=\u001b[0m \u001b[0mf\u001b[0m\u001b[1;33m.\u001b[0m\u001b[0mread\u001b[0m\u001b[1;33m(\u001b[0m\u001b[0mpeeksz\u001b[0m\u001b[1;33m)\u001b[0m\u001b[1;33m\u001b[0m\u001b[1;33m\u001b[0m\u001b[0m\n\u001b[0;32m    113\u001b[0m     \u001b[1;32mif\u001b[0m \u001b[0mpeek\u001b[0m \u001b[1;33m==\u001b[0m \u001b[1;34mb\"PK\\x03\\x04\"\u001b[0m\u001b[1;33m:\u001b[0m \u001b[1;31m# a ZIP file\u001b[0m\u001b[1;33m\u001b[0m\u001b[1;33m\u001b[0m\u001b[0m\n",
      "\u001b[1;31mFileNotFoundError\u001b[0m: [Errno 2] No such file or directory: 'Dados BBG.xlsx'"
     ]
    }
   ],
   "source": [
    "xls = pd.ExcelFile('Dados BBG.xlsx')\n",
    "df1_raw = pd.read_excel(xls, 'MSFT-format')\n",
    "\n",
    "df1 = df1_raw.iloc[4:, :] \n",
    "\n",
    "df1.head()"
   ]
  },
  {
   "cell_type": "markdown",
   "metadata": {},
   "source": [
    "___\n",
    "### 3. Tratamento do banco de dados\n",
    "<div id='dataset_cleaning'></div>\n"
   ]
  },
  {
   "cell_type": "markdown",
   "metadata": {},
   "source": [
    "#### 3.1. Criação da lista de indicadores \n",
    "Como o DataFrame já é importado com os nomes dos indicadores nas suas respectivas colunas, não há a necessidade de atribui-los novamente. Esta célula apenas cria uma lista com os indicadores para ser usada ao longo do código."
   ]
  },
  {
   "cell_type": "code",
   "execution_count": null,
   "metadata": {},
   "outputs": [],
   "source": [
    "indicators_row = 5\n",
    "indicators_1 = df1_raw.iloc[indicators_row-2, 1:].array.dropna()\n",
    "indicators_1 =  np.array(indicators_1).tolist()"
   ]
  },
  {
   "cell_type": "markdown",
   "metadata": {},
   "source": [
    "#### 3.2. Retificação das variáveis\n",
    "Os valores do DataSet precisam ser convertidos para os tipos de variável correto para evitar incongruências futuras no código, nesse caso a coluna de datas é associada ao tipo de DateTime e as demais ao tipo float"
   ]
  },
  {
   "cell_type": "code",
   "execution_count": null,
   "metadata": {},
   "outputs": [],
   "source": [
    "for indicator in indicators_1:\n",
    "    df1[indicator] = df1[indicator].astype(float)\n",
    "df1.iloc[:, 0] = df1.iloc[:, 0].dt.date\n",
    "df1['data'] = pd.to_datetime(df1['data'])"
   ]
  },
  {
   "cell_type": "markdown",
   "metadata": {},
   "source": [
    "#### 3.3.  Atribuição das datas como índice\n",
    "Nesta célula, o índice numérico padrão é substituído pelo índice no formato DateTime. Isso foi feito para facilitar a manipulação dos dados já que estes são todos atribuídos a uma data"
   ]
  },
  {
   "cell_type": "code",
   "execution_count": null,
   "metadata": {},
   "outputs": [],
   "source": [
    "df1 = df1.set_index('data')\n",
    "df1.dtypes.to_frame()"
   ]
  },
  {
   "cell_type": "markdown",
   "metadata": {},
   "source": [
    "#### 3.4. Conversão da unidade de tempo do DataSet \n",
    "Nessa célula, o DataSet diário é convertido para mensal. Esse é um processo delicado pois o DataSet é diário, mas alguns indicadores são trimestrais, ou seja, cada linha do DataSet representa 1 dia , mas há indicadores que apresentam um valor apenas a cada 90 dias. Nesse caso, a estratégia foi fixar os valores do trimestre anterior até o próximo, e para isso foi utilizada a função “fillna()” com o parâmetro “method = 'ffill'” que preenche espaços vazios com o último valor. A função para fracionar os trimestres em meses foi  “resample()” com o parâmetro “BM”, para indicar que a nova unidade é mês financeiro (business month). No caso dos primeiros dados não um “valor anterior” dos indicadores trimestrais, e por isso foi utilizado novamente a funcao “fillna()”, mas desta vez com atributo “method=bfill” para preencher espaços vazios com o próximo valor."
   ]
  },
  {
   "cell_type": "code",
   "execution_count": null,
   "metadata": {},
   "outputs": [],
   "source": [
    "df1m = df1.fillna(method = 'ffill').resample('BM').mean().fillna(method = 'bfill')\n",
    "df1m.head()"
   ]
  },
  {
   "cell_type": "markdown",
   "metadata": {},
   "source": [
    "#### 3.5. Criação da variável target \n",
    "\n",
    "A variável target é o “padrao” cujos classificadores vão comparar com os indicadores, ela representa o alvo da classificação, que no caso desse projeto é a valorização da ação no período de um mês, por isso os valores dessa variável são binários, “1” para valorização e “0” para desvalorização.  Os valores da coluna dessa variável (return) foram construídos fazendo a diferença entre o preço da ação no determinado mês e o do anterior, e atribuindo o valor ”1” caso essa diferença fosse positiva e “0” caso fosse negativa"
   ]
  },
  {
   "cell_type": "code",
   "execution_count": null,
   "metadata": {},
   "outputs": [],
   "source": [
    "df1m['return'] = (df1m['PX_LAST'].diff()>0).astype('int')"
   ]
  }
 ],
 "metadata": {
  "kernelspec": {
   "display_name": "Python 3",
   "language": "python",
   "name": "python3"
  },
  "language_info": {
   "codemirror_mode": {
    "name": "ipython",
    "version": 3
   },
   "file_extension": ".py",
   "mimetype": "text/x-python",
   "name": "python",
   "nbconvert_exporter": "python",
   "pygments_lexer": "ipython3",
   "version": "3.7.3"
  }
 },
 "nbformat": 4,
 "nbformat_minor": 2
}
